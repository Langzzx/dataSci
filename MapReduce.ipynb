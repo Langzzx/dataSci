{
 "cells": [
  {
   "cell_type": "code",
   "execution_count": 4,
   "metadata": {
    "collapsed": true
   },
   "outputs": [],
   "source": [
    "import sys\n",
    "import string\n",
    "import logging"
   ]
  },
  {
   "cell_type": "code",
   "execution_count": 2,
   "metadata": {
    "collapsed": true
   },
   "outputs": [],
   "source": [
    "def mapper():\n",
    "    for line in sys.stdin: # cycle through lines of data\n",
    "        # tokenize the line of data\n",
    "        data = line.strip.split(\" \")\n",
    "        for i in data:\n",
    "            # clean the data\n",
    "            cleaned_data = i.translate(string.maketrans(\"\",\"\"), string.punctuation).lower()\n",
    "            # emit a key value pair\n",
    "            print(\"{0}\\t{1}\".format(clean_data, 1))           "
   ]
  },
  {
   "cell_type": "code",
   "execution_count": 1,
   "metadata": {
    "collapsed": true
   },
   "outputs": [],
   "source": [
    "def reducer():\n",
    "    word_count = 0\n",
    "    old_key = None\n",
    "    \n",
    "    for line in sys.stdin:\n",
    "        data = line.strip().split(\"\\t\")\n",
    "        \n",
    "        if len(data) != 2:\n",
    "            continue\n",
    "            \n",
    "        this_key, count = data\n",
    "        if old_key and old_key != this_key:\n",
    "            print(\"{0}\\t{1}\".format(old_key, word_count))\n",
    "            word_count = 0\n",
    "        old_key = this_key\n",
    "        word_count += float(count)\n",
    "        \n",
    "    if old_key != None:\n",
    "        print(\"[0]\\t{1}\".format(old_key, word_count))"
   ]
  },
  {
   "cell_type": "code",
   "execution_count": null,
   "metadata": {
    "collapsed": true
   },
   "outputs": [],
   "source": [
    "# Hadoop"
   ]
  }
 ],
 "metadata": {
  "kernelspec": {
   "display_name": "Python 3",
   "language": "python",
   "name": "python3"
  },
  "language_info": {
   "codemirror_mode": {
    "name": "ipython",
    "version": 3
   },
   "file_extension": ".py",
   "mimetype": "text/x-python",
   "name": "python",
   "nbconvert_exporter": "python",
   "pygments_lexer": "ipython3",
   "version": "3.6.1"
  }
 },
 "nbformat": 4,
 "nbformat_minor": 2
}
