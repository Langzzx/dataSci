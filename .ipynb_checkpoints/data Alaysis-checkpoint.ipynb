{
 "cells": [
  {
   "cell_type": "code",
   "execution_count": 1,
   "metadata": {},
   "outputs": [
    {
     "name": "stderr",
     "output_type": "stream",
     "text": [
      "/Users/lang/anaconda3/envs/ml/lib/python3.6/site-packages/matplotlib/font_manager.py:280: UserWarning: Matplotlib is building the font cache using fc-list. This may take a moment.\n",
      "  'Matplotlib is building the font cache using fc-list. '\n"
     ]
    }
   ],
   "source": [
    "import numpy as np\n",
    "import pandas\n",
    "import matplotlib.pyplot as plt\n",
    "\n",
    "%matplotlib inline"
   ]
  },
  {
   "cell_type": "markdown",
   "metadata": {},
   "source": [
    "## two sample t test:\n",
    "- equal sample size\n",
    "- same variance\n",
    "\n",
    "p-value: probability of obtaining a test statistic at least as extreme as our if null pypothesis was true.\n",
    "\n",
    "samples:\n",
    "    1. how different a sample mean if from a population\n",
    "    2. how different two sample means are from each other\n",
    "     - dependent\n",
    "     - independent\n",
    "     \n",
    "    t = mean difference / SE(standard error)\n",
    "    t distribution are defined by their degrees of freedom(DF).\n",
    "    DF: "
   ]
  },
  {
   "cell_type": "code",
   "execution_count": 8,
   "metadata": {
    "collapsed": true
   },
   "outputs": [],
   "source": [
    "# t-test\n",
    "\n",
    "import scipy.stats\n",
    "\n",
    "def compare_averages(data1, data2):\n",
    "    # perform welch's t-test\n",
    "    result = scipy.stats.ttest_ind(data1, data2, equal_var=False)\n",
    "    \n",
    "    # product desired output\n",
    "    if result[1] <= .05: # p-value < 0.05\n",
    "        return (False, result)\n",
    "    else:\n",
    "        return (True, result)"
   ]
  },
  {
   "cell_type": "code",
   "execution_count": 11,
   "metadata": {},
   "outputs": [
    {
     "data": {
      "text/html": [
       "<div>\n",
       "<style>\n",
       "    .dataframe thead tr:only-child th {\n",
       "        text-align: right;\n",
       "    }\n",
       "\n",
       "    .dataframe thead th {\n",
       "        text-align: left;\n",
       "    }\n",
       "\n",
       "    .dataframe tbody tr th {\n",
       "        vertical-align: top;\n",
       "    }\n",
       "</style>\n",
       "<table border=\"1\" class=\"dataframe\">\n",
       "  <thead>\n",
       "    <tr style=\"text-align: right;\">\n",
       "      <th></th>\n",
       "      <th>date</th>\n",
       "      <th>maxpressurem</th>\n",
       "      <th>maxdewptm</th>\n",
       "      <th>maxpressurei</th>\n",
       "      <th>maxdewpti</th>\n",
       "      <th>since1julheatingdegreedaysnormal</th>\n",
       "      <th>heatingdegreedaysnormal</th>\n",
       "      <th>since1sepcoolingdegreedaysnormal</th>\n",
       "      <th>hail</th>\n",
       "      <th>since1julsnowfallm</th>\n",
       "      <th>...</th>\n",
       "      <th>precipi</th>\n",
       "      <th>snowfalli</th>\n",
       "      <th>since1jancoolingdegreedaysnormal</th>\n",
       "      <th>precipm</th>\n",
       "      <th>snowfallm</th>\n",
       "      <th>thunder</th>\n",
       "      <th>monthtodateheatingdegreedays</th>\n",
       "      <th>meantempi</th>\n",
       "      <th>maxvism</th>\n",
       "      <th>meantempm</th>\n",
       "    </tr>\n",
       "  </thead>\n",
       "  <tbody>\n",
       "    <tr>\n",
       "      <th>0</th>\n",
       "      <td>2011-05-01</td>\n",
       "      <td>1026</td>\n",
       "      <td>6</td>\n",
       "      <td>30.31</td>\n",
       "      <td>42</td>\n",
       "      <td>4646</td>\n",
       "      <td>8</td>\n",
       "      <td>NaN</td>\n",
       "      <td>0</td>\n",
       "      <td>157.23</td>\n",
       "      <td>...</td>\n",
       "      <td>0.0</td>\n",
       "      <td>0.0</td>\n",
       "      <td>13</td>\n",
       "      <td>0.0</td>\n",
       "      <td>0.0</td>\n",
       "      <td>0</td>\n",
       "      <td>5</td>\n",
       "      <td>60</td>\n",
       "      <td>16</td>\n",
       "      <td>16</td>\n",
       "    </tr>\n",
       "    <tr>\n",
       "      <th>1</th>\n",
       "      <td>2011-05-02</td>\n",
       "      <td>1026</td>\n",
       "      <td>10</td>\n",
       "      <td>30.31</td>\n",
       "      <td>50</td>\n",
       "      <td>4653</td>\n",
       "      <td>7</td>\n",
       "      <td>NaN</td>\n",
       "      <td>0</td>\n",
       "      <td>157.23</td>\n",
       "      <td>...</td>\n",
       "      <td>0.0</td>\n",
       "      <td>0.0</td>\n",
       "      <td>14</td>\n",
       "      <td>0.0</td>\n",
       "      <td>0.0</td>\n",
       "      <td>0</td>\n",
       "      <td>13</td>\n",
       "      <td>57</td>\n",
       "      <td>16</td>\n",
       "      <td>14</td>\n",
       "    </tr>\n",
       "    <tr>\n",
       "      <th>2</th>\n",
       "      <td>2011-05-03</td>\n",
       "      <td>1021</td>\n",
       "      <td>15</td>\n",
       "      <td>30.14</td>\n",
       "      <td>59</td>\n",
       "      <td>4660</td>\n",
       "      <td>7</td>\n",
       "      <td>NaN</td>\n",
       "      <td>0</td>\n",
       "      <td>157.23</td>\n",
       "      <td>...</td>\n",
       "      <td>0.0</td>\n",
       "      <td>0.0</td>\n",
       "      <td>15</td>\n",
       "      <td>0.0</td>\n",
       "      <td>0.0</td>\n",
       "      <td>0</td>\n",
       "      <td>13</td>\n",
       "      <td>65</td>\n",
       "      <td>16</td>\n",
       "      <td>18</td>\n",
       "    </tr>\n",
       "    <tr>\n",
       "      <th>3</th>\n",
       "      <td>2011-05-04</td>\n",
       "      <td>1017</td>\n",
       "      <td>14</td>\n",
       "      <td>30.03</td>\n",
       "      <td>57</td>\n",
       "      <td>4667</td>\n",
       "      <td>7</td>\n",
       "      <td>NaN</td>\n",
       "      <td>0</td>\n",
       "      <td>157.23</td>\n",
       "      <td>...</td>\n",
       "      <td>0.5</td>\n",
       "      <td>0.0</td>\n",
       "      <td>16</td>\n",
       "      <td>12.7</td>\n",
       "      <td>0.0</td>\n",
       "      <td>0</td>\n",
       "      <td>23</td>\n",
       "      <td>55</td>\n",
       "      <td>16</td>\n",
       "      <td>13</td>\n",
       "    </tr>\n",
       "    <tr>\n",
       "      <th>4</th>\n",
       "      <td>2011-05-05</td>\n",
       "      <td>1016</td>\n",
       "      <td>4</td>\n",
       "      <td>30.01</td>\n",
       "      <td>39</td>\n",
       "      <td>4673</td>\n",
       "      <td>6</td>\n",
       "      <td>NaN</td>\n",
       "      <td>0</td>\n",
       "      <td>157.23</td>\n",
       "      <td>...</td>\n",
       "      <td>0.0</td>\n",
       "      <td>0.0</td>\n",
       "      <td>17</td>\n",
       "      <td>0.0</td>\n",
       "      <td>0.0</td>\n",
       "      <td>0</td>\n",
       "      <td>32</td>\n",
       "      <td>56</td>\n",
       "      <td>16</td>\n",
       "      <td>13</td>\n",
       "    </tr>\n",
       "  </tbody>\n",
       "</table>\n",
       "<p>5 rows × 70 columns</p>\n",
       "</div>"
      ],
      "text/plain": [
       "         date  maxpressurem  maxdewptm  maxpressurei  maxdewpti  \\\n",
       "0  2011-05-01          1026          6         30.31         42   \n",
       "1  2011-05-02          1026         10         30.31         50   \n",
       "2  2011-05-03          1021         15         30.14         59   \n",
       "3  2011-05-04          1017         14         30.03         57   \n",
       "4  2011-05-05          1016          4         30.01         39   \n",
       "\n",
       "   since1julheatingdegreedaysnormal  heatingdegreedaysnormal  \\\n",
       "0                              4646                        8   \n",
       "1                              4653                        7   \n",
       "2                              4660                        7   \n",
       "3                              4667                        7   \n",
       "4                              4673                        6   \n",
       "\n",
       "   since1sepcoolingdegreedaysnormal  hail  since1julsnowfallm    ...      \\\n",
       "0                               NaN     0              157.23    ...       \n",
       "1                               NaN     0              157.23    ...       \n",
       "2                               NaN     0              157.23    ...       \n",
       "3                               NaN     0              157.23    ...       \n",
       "4                               NaN     0              157.23    ...       \n",
       "\n",
       "   precipi  snowfalli  since1jancoolingdegreedaysnormal  precipm  snowfallm  \\\n",
       "0      0.0        0.0                                13      0.0        0.0   \n",
       "1      0.0        0.0                                14      0.0        0.0   \n",
       "2      0.0        0.0                                15      0.0        0.0   \n",
       "3      0.5        0.0                                16     12.7        0.0   \n",
       "4      0.0        0.0                                17      0.0        0.0   \n",
       "\n",
       "   thunder  monthtodateheatingdegreedays  meantempi  maxvism  meantempm  \n",
       "0        0                             5         60       16         16  \n",
       "1        0                            13         57       16         14  \n",
       "2        0                            13         65       16         18  \n",
       "3        0                            23         55       16         13  \n",
       "4        0                            32         56       16         13  \n",
       "\n",
       "[5 rows x 70 columns]"
      ]
     },
     "execution_count": 11,
     "metadata": {},
     "output_type": "execute_result"
    }
   ],
   "source": [
    "data = pandas.read_csv('./data/weather-underground.csv')\n",
    "data.head()"
   ]
  },
  {
   "cell_type": "code",
   "execution_count": 12,
   "metadata": {},
   "outputs": [],
   "source": [
    "data1 = data[data['rain'] == 1]['maxpressurei']\n",
    "data2 = data[data['rain'] == 0]['maxpressurei']"
   ]
  },
  {
   "cell_type": "code",
   "execution_count": 13,
   "metadata": {},
   "outputs": [
    {
     "data": {
      "text/plain": [
       "(True,\n",
       " Ttest_indResult(statistic=-0.88535360366820337, pvalue=0.38350636891688028))"
      ]
     },
     "execution_count": 13,
     "metadata": {},
     "output_type": "execute_result"
    }
   ],
   "source": [
    "compare_averages(data1, data2)"
   ]
  },
  {
   "cell_type": "code",
   "execution_count": 14,
   "metadata": {},
   "outputs": [
    {
     "data": {
      "text/plain": [
       "(False,\n",
       " Ttest_indResult(statistic=2.2937762858010848, pvalue=0.029514790833283885))"
      ]
     },
     "execution_count": 14,
     "metadata": {},
     "output_type": "execute_result"
    }
   ],
   "source": [
    "data3 = data[data['rain'] == 1]['maxdewpti']\n",
    "data4 = data[data['rain'] == 0]['maxdewpti']\n",
    "compare_averages(data3, data4)"
   ]
  },
  {
   "cell_type": "code",
   "execution_count": null,
   "metadata": {
    "collapsed": true
   },
   "outputs": [],
   "source": [
    "# upper shows persure indenpence with rain, but max wet is dependent. intersting."
   ]
  },
  {
   "cell_type": "code",
   "execution_count": null,
   "metadata": {
    "collapsed": true
   },
   "outputs": [],
   "source": [
    "# Non-parameter test:\n",
    "A statistical test that does not assume our data is drawn from any particular underlying probability distribution.\n",
    "\n",
    "Mann-Whitney U test - test  null hypothesis that two population are the same.\n",
    "> U, p = scipy.stats.mannwhitneyu(x, y, use_continuity=True, alternative=None)"
   ]
  },
  {
   "cell_type": "code",
   "execution_count": 16,
   "metadata": {},
   "outputs": [
    {
     "name": "stdout",
     "output_type": "stream",
     "text": [
      "90.0 \n",
      " 0.337687139253\n"
     ]
    }
   ],
   "source": [
    "U, p = scipy.stats.mannwhitneyu(data1, data2, use_continuity=True, alternative=None)\n",
    "print(U, '\\n', p)"
   ]
  },
  {
   "cell_type": "code",
   "execution_count": 18,
   "metadata": {
    "collapsed": true
   },
   "outputs": [],
   "source": [
    "def compute_cost(features, values, theta):\n",
    "    \"\"\"\n",
    "    Compute the cost of a list of parameters, theta, given a list of features \n",
    "    (input data points) and values (output data points).\n",
    "    \"\"\"\n",
    "    m = len(values)\n",
    "    sum_of_square_errors = numpy.square(numpy.dot(features, theta) - values).sum()\n",
    "    cost = sum_of_square_errors / (2*m)\n",
    "\n",
    "    return cost\n",
    "\n",
    "def gradient_descent(features, values, theta, alpha, num_iterations):\n",
    "    \"\"\"\n",
    "    Perform gradient descent given a data set with an arbitrary number of features.\n",
    "    \"\"\"\n",
    "\n",
    "    # Write code here that performs num_iterations updates to the elements of theta.\n",
    "    # times. Every time you compute the cost for a given list of thetas, append it \n",
    "    # to cost_history.\n",
    "    # See the Instructor notes for hints. \n",
    "    m = len(values)\n",
    "    cost_history = []\n",
    "    for i in range(num_iterations):\n",
    "        predicted_value = numpy.dot(features, theta)\n",
    "        theta = theta - alpha / m * numpy.dot((predicted_value - values), features)\n",
    "        cost = compute_cost(features, values, theta)\n",
    "        cost_history.append(cost)\n",
    "\n",
    "    return theta, pandas.Series(cost_history)"
   ]
  },
  {
   "cell_type": "code",
   "execution_count": 20,
   "metadata": {},
   "outputs": [
    {
     "name": "stdout",
     "output_type": "stream",
     "text": [
      "Collecting ggplot\n",
      "  Downloading ggplot-0.11.5-py2.py3-none-any.whl (2.2MB)\n",
      "\u001b[K    100% |████████████████████████████████| 2.2MB 90kB/s eta 0:00:011\n",
      "\u001b[?25hRequirement already satisfied: patsy>=0.4 in /Users/lang/anaconda3/envs/ml/lib/python3.6/site-packages (from ggplot)\n",
      "Collecting brewer2mpl (from ggplot)\n",
      "  Downloading brewer2mpl-1.4.1-py2.py3-none-any.whl\n",
      "Requirement already satisfied: statsmodels in /Users/lang/anaconda3/envs/ml/lib/python3.6/site-packages (from ggplot)\n",
      "Requirement already satisfied: cycler in /Users/lang/anaconda3/envs/ml/lib/python3.6/site-packages (from ggplot)\n",
      "Requirement already satisfied: matplotlib in /Users/lang/anaconda3/envs/ml/lib/python3.6/site-packages (from ggplot)\n",
      "Requirement already satisfied: scipy in /Users/lang/anaconda3/envs/ml/lib/python3.6/site-packages (from ggplot)\n",
      "Requirement already satisfied: pandas in /Users/lang/anaconda3/envs/ml/lib/python3.6/site-packages (from ggplot)\n",
      "Requirement already satisfied: six in /Users/lang/anaconda3/envs/ml/lib/python3.6/site-packages (from ggplot)\n",
      "Requirement already satisfied: numpy in /Users/lang/anaconda3/envs/ml/lib/python3.6/site-packages (from ggplot)\n",
      "Requirement already satisfied: python-dateutil in /Users/lang/anaconda3/envs/ml/lib/python3.6/site-packages (from matplotlib->ggplot)\n",
      "Requirement already satisfied: pytz in /Users/lang/anaconda3/envs/ml/lib/python3.6/site-packages (from matplotlib->ggplot)\n",
      "Requirement already satisfied: pyparsing!=2.0.4,!=2.1.2,!=2.1.6,>=1.5.6 in /Users/lang/anaconda3/envs/ml/lib/python3.6/site-packages (from matplotlib->ggplot)\n",
      "Installing collected packages: brewer2mpl, ggplot\n",
      "Successfully installed brewer2mpl-1.4.1 ggplot-0.11.5\n"
     ]
    }
   ],
   "source": [
    "!pip install ggplot"
   ]
  },
  {
   "cell_type": "code",
   "execution_count": 21,
   "metadata": {},
   "outputs": [
    {
     "name": "stderr",
     "output_type": "stream",
     "text": [
      "/Users/lang/anaconda3/envs/ml/lib/python3.6/site-packages/ggplot/utils.py:81: FutureWarning: pandas.tslib is deprecated and will be removed in a future version.\n",
      "You can access Timestamp as pandas.Timestamp\n",
      "  pd.tslib.Timestamp,\n",
      "/Users/lang/anaconda3/envs/ml/lib/python3.6/site-packages/ggplot/stats/smoothers.py:4: FutureWarning: The pandas.lib module is deprecated and will be removed in a future version. These are private functions and can be accessed from pandas._libs.lib instead\n",
      "  from pandas.lib import Timestamp\n",
      "/Users/lang/anaconda3/envs/ml/lib/python3.6/site-packages/statsmodels/compat/pandas.py:56: FutureWarning: The pandas.core.datetools module is deprecated and will be removed in a future version. Please use the pandas.tseries module instead.\n",
      "  from pandas.core import datetools\n"
     ]
    }
   ],
   "source": [
    "import numpy as np\n",
    "import pandas\n",
    "from ggplot import *\n",
    "\n",
    "def normalize_features(df):\n",
    "    \"\"\"\n",
    "    Normalize the features in the data set.\n",
    "    \"\"\"\n",
    "    mu = df.mean()\n",
    "    sigma = df.std()\n",
    "    \n",
    "    if (sigma == 0).any():\n",
    "        raise Exception(\"One or more features had the same value for all samples, and thus could \" + \\\n",
    "                         \"not be normalized. Please do not include features with only a single value \" + \\\n",
    "                         \"in your model.\")\n",
    "    df_normalized = (df - df.mean()) / df.std()\n",
    "\n",
    "    return df_normalized, mu, sigma\n",
    "\n",
    "def predictions(dataframe):\n",
    "    '''\n",
    "    The NYC turnstile data is stored in a pandas dataframe called weather_turnstile.\n",
    "    Using the information stored in the dataframe, let's predict the ridership of\n",
    "    the NYC subway using linear regression with gradient descent.\n",
    "    \n",
    "    You can download the complete turnstile weather dataframe here:\n",
    "    https://www.dropbox.com/s/meyki2wl9xfa7yk/turnstile_data_master_with_weather.csv    \n",
    "    \n",
    "    Your prediction should have a R^2 value of 0.40 or better.\n",
    "    You need to experiment using various input features contained in the dataframe. \n",
    "    We recommend that you don't use the EXITSn_hourly feature as an input to the \n",
    "    linear model because we cannot use it as a predictor: we cannot use exits \n",
    "    counts as a way to predict entry counts. \n",
    "    \n",
    "    Note: Due to the memory and CPU limitation of our Amazon EC2 instance, we will\n",
    "    give you a random subet (~15%) of the data contained in \n",
    "    turnstile_data_master_with_weather.csv. You are encouraged to experiment with \n",
    "    this computer on your own computer, locally. \n",
    "    \n",
    "    \n",
    "    If you'd like to view a plot of your cost history, uncomment the call to \n",
    "    plot_cost_history below. The slowdown from plotting is significant, so if you \n",
    "    are timing out, the first thing to do is to comment out the plot command again.\n",
    "    \n",
    "    If you receive a \"server has encountered an error\" message, that means you are \n",
    "    hitting the 30-second limit that's placed on running your program. Try using a \n",
    "    smaller number for num_iterations if that's the case.\n",
    "    \n",
    "    If you are using your own algorithm/models, see if you can optimize your code so \n",
    "    that it runs faster.\n",
    "    '''\n",
    "    # Select Features (try different features!)\n",
    "    features = dataframe[['rain', 'precipi', 'Hour', 'meantempi']]\n",
    "    \n",
    "    # Add UNIT to features using dummy variables\n",
    "    dummy_units = pandas.get_dummies(dataframe['UNIT'], prefix='unit')\n",
    "    features = features.join(dummy_units)\n",
    "    \n",
    "    # Values\n",
    "    values = dataframe['ENTRIESn_hourly']\n",
    "    m = len(values)\n",
    "\n",
    "    features, mu, sigma = normalize_features(features)\n",
    "    features['ones'] = np.ones(m) # Add a column of 1s (y intercept)\n",
    "    \n",
    "    # Convert features and values to numpy arrays\n",
    "    features_array = np.array(features)\n",
    "    values_array = np.array(values)\n",
    "\n",
    "    # Set values for alpha, number of iterations.\n",
    "    alpha = 0.1 # please feel free to change this value\n",
    "    num_iterations = 75 # please feel free to change this value\n",
    "\n",
    "    # Initialize theta, perform gradient descent\n",
    "    theta_gradient_descent = np.zeros(len(features.columns))\n",
    "    theta_gradient_descent, cost_history = gradient_descent(features_array, \n",
    "                                                            values_array, \n",
    "                                                            theta_gradient_descent, \n",
    "                                                            alpha, \n",
    "                                                            num_iterations)\n",
    "    \n",
    "    plot = None\n",
    "    # -------------------------------------------------\n",
    "    # Uncomment the next line to see your cost history\n",
    "    # -------------------------------------------------\n",
    "    # plot = plot_cost_history(alpha, cost_history)\n",
    "    # \n",
    "    # Please note, there is a possibility that plotting\n",
    "    # this in addition to your calculation will exceed \n",
    "    # the 30 second limit on the compute servers.\n",
    "    \n",
    "    predictions = np.dot(features_array, theta_gradient_descent)\n",
    "    return predictions, plot\n",
    "\n",
    "\n",
    "def plot_cost_history(alpha, cost_history):\n",
    "   \"\"\"\n",
    "   This function is for viewing the plot of your cost history.\n",
    "   You can run it by uncommenting this\n",
    "\n",
    "       plot_cost_history(alpha, cost_history) \n",
    "\n",
    "   call in predictions.\n",
    "   \n",
    "   If you want to run this locally, you should print the return value\n",
    "   from this function.\n",
    "   \"\"\"\n",
    "   cost_df = pandas.DataFrame({\n",
    "      'Cost_History': cost_history,\n",
    "      'Iteration': range(len(cost_history))\n",
    "   })\n",
    "   return ggplot(cost_df, aes('Iteration', 'Cost_History')) + \\\n",
    "      geom_point() + ggtitle('Cost History for alpha = %.3f' % alpha )\n"
   ]
  },
  {
   "cell_type": "code",
   "execution_count": null,
   "metadata": {
    "collapsed": true
   },
   "outputs": [],
   "source": []
  }
 ],
 "metadata": {
  "kernelspec": {
   "display_name": "Python 3",
   "language": "python",
   "name": "python3"
  },
  "language_info": {
   "codemirror_mode": {
    "name": "ipython",
    "version": 3
   },
   "file_extension": ".py",
   "mimetype": "text/x-python",
   "name": "python",
   "nbconvert_exporter": "python",
   "pygments_lexer": "ipython3",
   "version": "3.6.1"
  }
 },
 "nbformat": 4,
 "nbformat_minor": 2
}
